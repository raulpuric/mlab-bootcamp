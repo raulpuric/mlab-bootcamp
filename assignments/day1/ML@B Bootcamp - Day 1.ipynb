{
 "cells": [
  {
   "cell_type": "markdown",
   "metadata": {},
   "source": [
    "# Perceptron - IRIS dataset"
   ]
  },
  {
   "cell_type": "code",
   "execution_count": null,
   "metadata": {
    "collapsed": true
   },
   "outputs": [],
   "source": [
    "import numpy as np\n",
    "\n",
    "class Perceptron(object):\n",
    "\n",
    "    def __init__(self, eta=0.01, epochs=50):\n",
    "        self.eta = eta\n",
    "        self.epochs = epochs\n",
    "\n",
    "    def train(self, X, y):\n",
    "\n",
    "        self.w_ = np.zeros(X.shape[1])\n",
    "        self.errors_ = []\n",
    "\n",
    "        for _ in range(self.epochs):\n",
    "            ### FILL THIS IN ###\n",
    "        return self\n",
    "\n",
    "    def net_input(self, X):\n",
    "        return np.dot(X, self.w_)\n",
    "\n",
    "    def predict(self, X):\n",
    "        return np.where(self.net_input(X) >= 0.0, 1, -1)"
   ]
  },
  {
   "cell_type": "code",
   "execution_count": null,
   "metadata": {
    "collapsed": true
   },
   "outputs": [],
   "source": [
    "import pandas as pd\n",
    "df = pd.read_csv('https://archive.ics.uci.edu/ml/machine-learning-databases/iris/iris.data', header=None)\n",
    "\n",
    "# setosa and versicolor\n",
    "y = df.iloc[0:100, 4].values\n",
    "y = np.where(y == 'Iris-setosa', -1, 1)\n",
    "\n",
    "# sepal length and petal length\n",
    "X = df.iloc[0:100, [0,2]].values"
   ]
  },
  {
   "cell_type": "code",
   "execution_count": null,
   "metadata": {
    "collapsed": false
   },
   "outputs": [],
   "source": [
    "# If you haven't installed mlxtend yet for ipython\n",
    "!conda install -c rasbt mlxtend -qy"
   ]
  },
  {
   "cell_type": "code",
   "execution_count": null,
   "metadata": {
    "collapsed": false
   },
   "outputs": [],
   "source": [
    "%matplotlib inline\n",
    "import matplotlib.pyplot as plt\n",
    "from mlxtend.evaluate import plot_decision_regions\n",
    "\n",
    "ppn = Perceptron(epochs=10, eta=.01)\n",
    "\n",
    "ppn.train(X, y)\n",
    "print('Weights: %s' % ppn.w_)\n",
    "plot_decision_regions(X, y, clf=ppn)\n",
    "plt.title('Perceptron')\n",
    "plt.xlabel('sepal length [cm]')\n",
    "plt.ylabel('petal length [cm]')\n",
    "plt.show()\n",
    "\n",
    "plt.plot(range(1, len(ppn.errors_)+1), ppn.errors_, marker='o')\n",
    "plt.xlabel('Iterations')\n",
    "plt.ylabel('Missclassifications')\n",
    "plt.show()"
   ]
  },
  {
   "cell_type": "markdown",
   "metadata": {
    "collapsed": false
   },
   "source": [
    "# K-Nearest Neighbor"
   ]
  },
  {
   "cell_type": "markdown",
   "metadata": {},
   "source": [
    "## KNN Visualization"
   ]
  },
  {
   "cell_type": "code",
   "execution_count": 5,
   "metadata": {
    "collapsed": false
   },
   "outputs": [
    {
     "data": {
      "image/png": "[encoded data removed]",
      "text/plain": [
       "<matplotlib.figure.Figure at 0x7ffb8070ff28>"
      ]
     },
     "metadata": {},
     "output_type": "display_data"
    }
   ],
   "source": [
    "import numpy as np\n",
    "import matplotlib.pyplot as plt\n",
    "from matplotlib.colors import ListedColormap\n",
    "from sklearn import neighbors, datasets\n",
    "\n",
    "### FIX THIS ###\n",
    "n_neighbors = 1\n",
    "\n",
    "###############\n",
    "\n",
    "# import some data to play with\n",
    "iris = datasets.load_iris()\n",
    "X = iris.data[:, :2]  # we only take the first two features. We could\n",
    "                      # avoid this ugly slicing by using a two-dim dataset\n",
    "y = iris.target\n",
    "\n",
    "h = .02  # step size in the mesh\n",
    "\n",
    "# Create color maps\n",
    "cmap_light = ListedColormap(['#FFAAAA', '#AAFFAA', '#AAAAFF'])\n",
    "cmap_bold = ListedColormap(['#FF0000', '#00FF00', '#0000FF'])\n",
    "\n",
    "for weights in ['uniform']:\n",
    "    # we create an instance of Neighbours Classifier and fit the data.\n",
    "    clf = neighbors.KNeighborsClassifier(n_neighbors, weights=weights)\n",
    "    clf.fit(X, y)\n",
    "\n",
    "    # Plot the decision boundary. For that, we will assign a color to each\n",
    "    # point in the mesh [x_min, m_max]x[y_min, y_max].\n",
    "    x_min, x_max = X[:, 0].min() - 1, X[:, 0].max() + 1\n",
    "    y_min, y_max = X[:, 1].min() - 1, X[:, 1].max() + 1\n",
    "    xx, yy = np.meshgrid(np.arange(x_min, x_max, h),\n",
    "                         np.arange(y_min, y_max, h))\n",
    "    Z = clf.predict(np.c_[xx.ravel(), yy.ravel()])\n",
    "\n",
    "    # Put the result into a color plot\n",
    "    Z = Z.reshape(xx.shape)\n",
    "    plt.figure()\n",
    "    plt.pcolormesh(xx, yy, Z, cmap=cmap_light)\n",
    "\n",
    "    # Plot also the training points\n",
    "    plt.scatter(X[:, 0], X[:, 1], c=y, cmap=cmap_bold)\n",
    "    plt.xlim(xx.min(), xx.max())\n",
    "    plt.ylim(yy.min(), yy.max())\n",
    "    plt.title(\"3-Class classification (k = %i, weights = '%s')\"\n",
    "              % (n_neighbors, weights))\n",
    "\n",
    "plt.show()"
   ]
  },
  {
   "cell_type": "markdown",
   "metadata": {},
   "source": [
    "## KNN Cross-Validation"
   ]
  },
  {
   "cell_type": "code",
   "execution_count": null,
   "metadata": {
    "collapsed": true
   },
   "outputs": [],
   "source": [
    "from sklearn.metrics import accuracy_score\n",
    "\n",
    "# Implement 10-fold cross-validation\n",
    "def knn_cross_validation(X, y, k):\n",
    "    num_samples = X.shape[0]\n",
    "    \n",
    "    accuracies = []\n",
    "    for i in range(10):\n",
    "        ### FILL THIS IN ###\n",
    "        start_split, end_split = None, None\n",
    "        Xtrain, Ytrain, Xtest, Ytest = [None for _ in range(4)]\n",
    "        ####################\n",
    "        \n",
    "        # Predicts accuracy and appends it to \"accuracies\" array\n",
    "        clf = neighbors.KNeighborsClassifier(k)\n",
    "        clf.fit(Xtrain, Ytrain)\n",
    "        y_pred = clf.predict(Xtest)\n",
    "        accuracy = accuracy_score(Ytest, y_pred)\n",
    "        accuracies.append(accuracy)\n",
    "        \n",
    "    return np.mean(accuracies)"
   ]
  },
  {
   "cell_type": "code",
   "execution_count": null,
   "metadata": {
    "collapsed": true
   },
   "outputs": [],
   "source": [
    "k_list = [1, 5, 10, 15, 20, 25]\n",
    "for k in k_list:\n",
    "    print(\"k: {0}, accuracy: {1}\".format(k, knn_cross_validation(X, y, k)))"
   ]
  },
  {
   "cell_type": "markdown",
   "metadata": {},
   "source": [
    "# Data Extraction"
   ]
  },
  {
   "cell_type": "code",
   "execution_count": null,
   "metadata": {
    "collapsed": false
   },
   "outputs": [],
   "source": [
    "import numpy as np\n",
    "import matplotlib.mlab as mlab\n",
    "import matplotlib.pyplot as plt\n",
    "import pandas as pd\n",
    "\n",
    "## boilerplate that reduces the number of rows pandas outputs\n",
    "## makes display cleaner\n",
    "pd.set_option('display.max_columns', 10)\n",
    "pd.set_option('display.max_rows', None)"
   ]
  },
  {
   "cell_type": "markdown",
   "metadata": {},
   "source": [
    "## Read in the data \n"
   ]
  },
  {
   "cell_type": "code",
   "execution_count": null,
   "metadata": {
    "collapsed": false
   },
   "outputs": [],
   "source": [
    "def strip(text):\n",
    "    try:\n",
    "        return text.strip()\n",
    "    except AttributeError:\n",
    "        return text"
   ]
  },
  {
   "cell_type": "code",
   "execution_count": null,
   "metadata": {
    "collapsed": false
   },
   "outputs": [],
   "source": [
    "train_data = pd.read_csv('census.train', converters={'education' : strip,\n",
    "                                    'marital-status' : strip,\n",
    "                                    'occupation' : strip,\n",
    "                                    'race' : strip,\n",
    "                                    'sex' : strip,\n",
    "                                    'hours-per-week' : strip,\n",
    "                                    'prediction' : strip})\n",
    "\n",
    "test_data = pd.read_csv('census.test', converters={'education' : strip,\n",
    "                                    'marital-status' : strip,\n",
    "                                    'occupation' : strip,\n",
    "                                    'race' : strip,\n",
    "                                    'sex' : strip,\n",
    "                                    'hours-per-week' : strip,\n",
    "                                    'prediction' : strip})\n",
    "train_data = train_data.drop(['Unnamed: 0'], axis=1)\n",
    "test_data = test_data.drop(['Unnamed: 0'], axis=1)\n",
    "train_data"
   ]
  },
  {
   "cell_type": "code",
   "execution_count": null,
   "metadata": {
    "collapsed": false
   },
   "outputs": [],
   "source": [
    "income_boundary = train_data['prediction']\n",
    "y = np.where(income_boundary == '<=50K',1,0)\n",
    "train_data = train_data.drop(['prediction'], axis=1)\n",
    "\n",
    "# We don't need these columns\n",
    "# to_drop = ['State','Area Code','Phone','Churn?']\n",
    "# churn_feat_space = churn_df.drop(to_drop,axis=1)"
   ]
  },
  {
   "cell_type": "markdown",
   "metadata": {},
   "source": [
    "## Understanding the data\n",
    "Before working with a dataset, I spend a little bit of time trying to figure out the different aspects of the dataset. I'll glimpse through the table and get an idea of what types of variables are being represented, some of the possible values, etc. One of the first things I investigate is the number of unique values in each column"
   ]
  },
  {
   "cell_type": "code",
   "execution_count": null,
   "metadata": {
    "collapsed": false
   },
   "outputs": [],
   "source": [
    "# iteratie through the columns and count the unique values in each column\n",
    "for column in train_data:\n",
    "    print(column, len(np.unique(train_data[column])))"
   ]
  },
  {
   "cell_type": "markdown",
   "metadata": {},
   "source": [
    "This gives me a few insights about what techniques may be best for processing the data. For example, we now see that sex clearly has only two categories, therefore we'd definitely only want 1 feature to represent sex."
   ]
  },
  {
   "cell_type": "markdown",
   "metadata": {},
   "source": [
    "## Dealing with categorical Data\n",
    "Before we can even get close to framing this problem in a proper context, we need to deal with the categorical data. \n",
    "\n",
    "\n",
    "\n",
    "\n",
    "\n",
    "There are a number of techniques to approach this and each varies based on the type of data. \n",
    "\n",
    "The simplest of technique is to enumerate all possible categories and replace the categories with their numerical position. Fortunately, sklearn has the module just for us: [LabelEncoder](http://scikit-learn.org/stable/modules/generated/sklearn.preprocessing.LabelEncoder.html)\n",
    "\n",
    "\n",
    "Let's start with the simple case - sex"
   ]
  },
  {
   "cell_type": "code",
   "execution_count": null,
   "metadata": {
    "collapsed": false
   },
   "outputs": [],
   "source": [
    "from sklearn.preprocessing import LabelEncoder as LE\n",
    "\n",
    "num_encoder = LE()\n",
    "encoded_train_data = train_data.copy()\n",
    "#to convert into numbers\n",
    "print('before encoding', np.unique(train_data['sex']))\n",
    "encoded_train_data['sex'] = num_encoder.fit_transform(train_data['sex'])\n",
    "print('after encoding', np.unique(encoded_train_data['sex']))"
   ]
  },
  {
   "cell_type": "markdown",
   "metadata": {},
   "source": [
    "Of course we will want to do the same for the other categorical variables. **Write a function that does this for a given list of column names**"
   ]
  },
  {
   "cell_type": "code",
   "execution_count": null,
   "metadata": {
    "collapsed": false
   },
   "outputs": [],
   "source": [
    "def le_categories(df, labels):\n",
    "    # test to make sure labels are in dataframe\n",
    "    assert set(labels).issubset(df.columns), \"Labels not in column names\"\n",
    "    encoded_df = df.copy()\n",
    "    ### STUDENT SOL START ###\n",
    "    ### STUDENT SOL END ###\n",
    "    return encoded_df\n",
    "le_categories(train_data, ['sex', 'education', 'marital-status', 'occupation', 'race', ])"
   ]
  },
  {
   "cell_type": "markdown",
   "metadata": {},
   "source": [
    "### There's another way (and it's sometimes better!)\n",
    "Another technique to encode categorical data is called **One Hot Encoding**. Essentially, you're taking every possible category for a catgorical feature and making it it's own binary feature. \n",
    "\n",
    "One hot encoding can improve performance of a classifier by removing the notion of order the enumerated labels produced by labelencoding can include. Despite adding more features and thereby reducing performance, other techniques exist to offset this loss. Now let's try this out with marital status"
   ]
  },
  {
   "cell_type": "code",
   "execution_count": null,
   "metadata": {
    "collapsed": true
   },
   "outputs": [],
   "source": [
    "# reset the data to undo the stuff we did in LE"
   ]
  },
  {
   "cell_type": "code",
   "execution_count": null,
   "metadata": {
    "collapsed": false
   },
   "outputs": [],
   "source": [
    "#OHE EXAMPLE\n",
    "from sklearn.preprocessing import OneHotEncoder as OHE\n",
    "\n",
    "\n",
    "marstat_unique = np.unique(train_data['marital-status'])\n",
    "# sklearn One hot encoder only deals with numbers, so we run LE first \n",
    "encoded_train_data = le_categories(train_data, ['marital-status'])\n",
    "ohe_encoder = OHE()\n",
    "# enc.transform(['Male'])\n",
    "ohe_encoder.fit(encoded_train_data['marital-status'].reshape(-1, 1))\n",
    "# check number of values found\n",
    "ohe_encoder.n_values_[0]"
   ]
  },
  {
   "cell_type": "code",
   "execution_count": null,
   "metadata": {
    "collapsed": false
   },
   "outputs": [],
   "source": [
    "# transform simply takes the columnar Gender data, then returns the OneHotEncoded matrix\n",
    "marstat_ohe = ohe_encoder.transform(encoded_train_data['marital-status'].reshape(-1, 1)).toarray()\n",
    "\n",
    "df = pd.DataFrame(marstat_ohe, dtype=np.int, columns=marstat_unique)\n",
    "df"
   ]
  },
  {
   "cell_type": "markdown",
   "metadata": {},
   "source": [
    "Now let's join the two together "
   ]
  },
  {
   "cell_type": "code",
   "execution_count": null,
   "metadata": {
    "collapsed": false
   },
   "outputs": [],
   "source": [
    "# encoded_train_data = encoded_train_data.drop(['marital-status'], axis=1)\n",
    "encoded_train_data = encoded_train_data.join(df)\n",
    "encoded_train_data"
   ]
  },
  {
   "cell_type": "markdown",
   "metadata": {},
   "source": [
    "**Adopt the above example to work for a dataframe when given a list of column names**"
   ]
  },
  {
   "cell_type": "code",
   "execution_count": null,
   "metadata": {
    "collapsed": false
   },
   "outputs": [],
   "source": [
    "\n",
    "def ohe_catgories(df, labels):\n",
    "    assert set(labels).issubset(df.columns), \"Labels not in column names\"\n",
    "    encoded_train_data = train_data\n",
    "    ### STUDENT SOL START ###\n",
    "    \n",
    "    ### STUDENT SOL END ###\n",
    "ohe_categories(train_data, ['sex', 'education', 'marital-status', 'occupation', 'race'])"
   ]
  },
  {
   "cell_type": "markdown",
   "metadata": {},
   "source": [
    "There you go! Now you have two excellent techniques that you can use to convert pesky categorical data into something your classifier will *love*. \n",
    "\n",
    "Choosing which method to use is up to you, but here are a few caveats to help make your decision easier:\n",
    "\n",
    "* Label encoding does bake in a notion of distance. This means that this method is best for categorical data with a notion of order.\n",
    "* If there is no notion of order, it's probably better to use one hot encoding as this better reflects the proper hamming distance (aka similarity) you'd expect for datapoints with such a label\n",
    "* One hot encoding comes with the trade off of increased dimensionality, which can quickly increase the amount of time your algorithm takes to train. This is especially prevalent with categorical data that has many categories - such as occupation in this dataset.\n",
    "\n",
    "## Moving On - Binning\n",
    "Now that we've explored categorical data, we can do some tricks to improve performance using continuous data as well. \n",
    "\n",
    "A popular and useful technique is called binning. The procedure involves breaking up a range of continuous numbers into equally sized chunks, then assigning each datapoint to their respective chunk. This significantly reduces the number of possible values that an algorithm needs to handle, oftentimes leading to significant accuracy increases. [This stackexchange answer](http://stats.stackexchange.com/questions/143806/why-binning-variables-in-predictive-analytics) runs through a few situations where binning may be beneficial.\n",
    "\n",
    "Let's try this out with the age column in our data. Pandas provides a simple method for binning data using the `cut` function"
   ]
  },
  {
   "cell_type": "code",
   "execution_count": 54,
   "metadata": {
    "collapsed": false
   },
   "outputs": [
    {
     "data": {
      "image/png": "[encoded data removed]",
      "text/plain": [
       "<matplotlib.figure.Figure at 0x7f2a9e08b0f0>"
      ]
     },
     "metadata": {},
     "output_type": "display_data"
    }
   ],
   "source": [
    "# we'll start by analyzing the properties of the data \n",
    "age_feature = train_data['age']\n",
    "binned_column, bins = pd.cut(age_feature, bins=10, labels=False, retbins=True)\n",
    "plt.xlabel('Age')\n",
    "plt.ylabel('Probability')\n",
    "plt.title('Age Histogram')\n",
    "plt.hist(age_feature, bins=bins) # you can switch this out with np.histogram, but it won't plot that way\n",
    "plt.show()   \n"
   ]
  },
  {
   "cell_type": "markdown",
   "metadata": {},
   "source": [
    "Now, after playing around with the data, we can use pandas `cut` function to do this for us"
   ]
  },
  {
   "cell_type": "code",
   "execution_count": null,
   "metadata": {
    "collapsed": false
   },
   "outputs": [],
   "source": [
    "train_data['age_binned'] = binned_column\n",
    "train_data"
   ]
  },
  {
   "cell_type": "code",
   "execution_count": null,
   "metadata": {
    "collapsed": false
   },
   "outputs": [],
   "source": [
    "train_data.columns"
   ]
  },
  {
   "cell_type": "code",
   "execution_count": null,
   "metadata": {
    "collapsed": true
   },
   "outputs": [],
   "source": []
  }
 ],
 "metadata": {
  "kernelspec": {
   "display_name": "Python 3",
   "language": "python",
   "name": "python3"
  },
  "language_info": {
   "codemirror_mode": {
    "name": "ipython",
    "version": 3
   },
   "file_extension": ".py",
   "mimetype": "text/x-python",
   "name": "python",
   "nbconvert_exporter": "python",
   "pygments_lexer": "ipython3",
   "version": "3.5.2"
  },
  "name": "_merged"
 },
 "nbformat": 4,
 "nbformat_minor": 0
}
